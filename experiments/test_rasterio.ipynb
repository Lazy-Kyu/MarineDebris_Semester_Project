{
 "cells": [
  {
   "cell_type": "code",
   "execution_count": 1,
   "metadata": {},
   "outputs": [
    {
     "name": "stderr",
     "output_type": "stream",
     "text": [
      "/home/sushen/.local/lib/python3.8/site-packages/tqdm/auto.py:22: TqdmWarning: IProgress not found. Please update jupyter and ipywidgets. See https://ipywidgets.readthedocs.io/en/stable/user_install.html\n",
      "  from .autonotebook import tqdm as notebook_tqdm\n"
     ]
    }
   ],
   "source": [
    "import rasterio.windows\n",
    "# from torch.utils.data import Dataset, ConcatDataset\n",
    "import geopandas as gpd\n",
    "import os\n",
    "import sys\n",
    "import rasterio as rio\n",
    "import pandas as pd\n",
    "from rasterio.features import rasterize\n",
    "import numpy as np\n",
    "from tqdm import tqdm\n",
    "import time\n",
    "\n",
    "from os.path import dirname as up\n",
    "sys.path.append('/home/sushen/marine_debris_semester_project')\n",
    "from data.utils_file import read_tif_image, pad\n",
    "import model.random_forest.engineering_patches as eng\n",
    "\n",
    "from feature_extraction import calculate_indices, calculate_texture"
   ]
  },
  {
   "cell_type": "code",
   "execution_count": null,
   "metadata": {},
   "outputs": [],
   "source": [
    "df_map_scenes = pd.read_csv('/data/sushen/marinedebris/MARIDA/marida_mapping.csv')\n",
    "df_map_scenes = df_map_scenes[df_map_scenes['mod'].str.contains('SR')==False]\n",
    "df_map_scenes['tile'] = df_map_scenes['region'].apply(lambda x: x.split('_')[-1])\n",
    "df_map_scenes['tile_contained'] = df_map_scenes.apply(lambda x: x.tile in x.tifpath, axis=1)\n",
    "df_map_scenes = df_map_scenes[df_map_scenes['tile_contained']==True]\n",
    "df_map_scenes.reset_index(drop=True, inplace=True) \n",
    "df_map_scenes.drop([15], inplace=True) "
   ]
  },
  {
   "cell_type": "code",
   "execution_count": null,
   "metadata": {},
   "outputs": [],
   "source": [
    "\n",
    "date_tile = '48MYU'\n",
    "\n",
    "scene_names = df_map_scenes.loc[df_map_scenes['region'].str.contains(date_tile)]['tifpath'].values\n",
    "print(scene_names)\n",
    "scene_name = scene_names[0]\n",
    "\n",
    "shp_names = df_map_scenes.loc[df_map_scenes['region'].str.contains(date_tile)]['s2name'].values\n",
    "print(shp_names)\n",
    "shp_name = shp_names[0]\n",
    "\n",
    "region_names = df_map_scenes.loc[df_map_scenes['region'].str.contains(date_tile)]['region'].values\n",
    "print(region_names)\n",
    "region_name = region_names[0]"
   ]
  },
  {
   "cell_type": "code",
   "execution_count": null,
   "metadata": {},
   "outputs": [],
   "source": [
    "# i = 4\n",
    "# scene_name = df_map_scenes.iloc[i]['tifpath']\n",
    "# shp_name = df_map_scenes.iloc[i]['s2name']\n",
    "# region_name = df_map_scenes.iloc[i]['region']"
   ]
  },
  {
   "cell_type": "code",
   "execution_count": null,
   "metadata": {},
   "outputs": [],
   "source": [
    "# df_map_scenes.reset_index()\n",
    "# df_map_scenes.head()"
   ]
  },
  {
   "cell_type": "code",
   "execution_count": null,
   "metadata": {},
   "outputs": [],
   "source": [
    "data_path = '/data/sushen/marinedebris/MARIDA'\n",
    "mask_id_path = '/data/sushen/marinedebris/project/masks_id/'\n",
    "mask_conf_path = '/data/sushen/marinedebris/project/masks_conf/'\n",
    "hdf_path = '/data/sushen/marinedebris/project'\n",
    "\n",
    "\n",
    "tif_file_path = os.path.join(data_path, 'scenes', scene_name)\n",
    "shp_file_path = os.path.join(data_path, 'shapefiles', shp_name)\n",
    "mask_id_file_path = os.path.join(mask_id_path, region_name + \".tif\")\n",
    "mask_conf_file_path = os.path.join(mask_conf_path, region_name + \".tif\")"
   ]
  },
  {
   "cell_type": "code",
   "execution_count": null,
   "metadata": {},
   "outputs": [],
   "source": [
    "# Geopandas Data Frame read\n",
    "gdf = gpd.read_file(shp_file_path)\n",
    "gdf.head()"
   ]
  },
  {
   "cell_type": "code",
   "execution_count": null,
   "metadata": {},
   "outputs": [],
   "source": [
    "# Rasterio Image opening\n",
    "with rio.open(tif_file_path) as src:\n",
    "    crs = src.crs\n",
    "    width = src.width\n",
    "    height = src.height\n",
    "    transform = src.transform\n",
    "    profile = src.profile\n",
    "    print(type(src))\n",
    "    print(src.meta[\"count\"])\n",
    "\n",
    "gdf = gdf.to_crs(crs)\n",
    "# gdf.head()"
   ]
  },
  {
   "cell_type": "code",
   "execution_count": null,
   "metadata": {},
   "outputs": [],
   "source": [
    "# Rasterize geometry of shp into a mask with labels\n",
    "if not os.path.exists(mask_id_file_path):\n",
    "    mask_id = rasterize(zip(gdf.geometry, gdf.id), all_touched=True,\n",
    "                    transform=transform, out_shape=(height, width))\n",
    "\n",
    "    profile[\"count\"] = 1\n",
    "    profile[\"dtype\"] = \"uint8\"\n",
    "\n",
    "    print(f\"writing mask to {mask_id_file_path}\")\n",
    "    with rio.open(mask_id_file_path, \"w\", **profile) as dst:\n",
    "        dst.write(mask_id[None])\n",
    "\n",
    "# Rasterize geometry of shp into a mask with conf levels\n",
    "if not os.path.exists(mask_conf_file_path):\n",
    "    mask_conf = rasterize(zip(gdf.geometry, gdf.conf), all_touched=True,\n",
    "                    transform=transform, out_shape=(height, width))\n",
    "\n",
    "    profile[\"count\"] = 1\n",
    "    profile[\"dtype\"] = \"uint8\"\n",
    "\n",
    "    print(f\"writing mask to {mask_conf_file_path}\")\n",
    "    with rio.open(mask_conf_file_path, \"w\", **profile) as dst:\n",
    "        dst.write(mask_conf[None])"
   ]
  },
  {
   "cell_type": "code",
   "execution_count": null,
   "metadata": {},
   "outputs": [],
   "source": [
    "# print(type(mask))\n",
    "# print(mask.shape)\n",
    "# print(np.nonzero(mask))\n",
    "# print(mask[np.nonzero(mask)])"
   ]
  },
  {
   "cell_type": "code",
   "execution_count": null,
   "metadata": {},
   "outputs": [],
   "source": [
    "imagesize = 16*10 # 16 pixels around centroid, 10m per pixel\n",
    "\n",
    "row = gdf.iloc[17] #17 problematic\n",
    "minx, miny, maxx, maxy = row.geometry.centroid.buffer(imagesize // 2).bounds\n",
    "window = rasterio.windows.from_bounds(minx, miny, maxx, maxy, transform=transform)\n",
    "\n",
    "image, _ = read_tif_image(tif_file_path, window)\n",
    "image = image.astype(\"float\")\n",
    "print(image)\n",
    "print(image.size)\n",
    "if image.size == 0:\n",
    "    print('true')\n",
    "\n",
    "with rasterio.open(mask_id_file_path, \"r\") as src:\n",
    "    mask_id = src.read(window=window)[0]\n",
    "    print(mask_id)\n",
    "    print(mask_id.size)\n",
    "\n",
    "with rasterio.open(mask_conf_file_path, \"r\") as src:\n",
    "    mask_conf = src.read(window=window)[0]\n",
    "    print(mask_conf)\n",
    "    print(mask_conf.size)\n",
    "\n",
    "image, mask_id = pad(image, mask_id, imagesize // 10)\n",
    "image, mask_conf = pad(image, mask_conf, imagesize // 10)\n",
    "image = np.delete(image, 9, axis = 0)"
   ]
  },
  {
   "cell_type": "code",
   "execution_count": null,
   "metadata": {},
   "outputs": [],
   "source": [
    "print(image.shape)\n",
    "print(mask_id.shape)\n",
    "print(mask_conf.shape)\n",
    "\n",
    "print(mask_conf)\n",
    "print(row)"
   ]
  },
  {
   "cell_type": "code",
   "execution_count": null,
   "metadata": {},
   "outputs": [],
   "source": [
    "indices = calculate_indices(image)\n",
    "print(indices.shape)\n",
    "np.argwhere(np.isnan(indices))\n",
    "\n",
    "textures = calculate_texture(image)\n",
    "print(textures.shape)\n",
    "np.argwhere(np.isnan(textures))"
   ]
  },
  {
   "cell_type": "code",
   "execution_count": null,
   "metadata": {},
   "outputs": [],
   "source": [
    "image = np.moveaxis(image, (0, 1, 2), (2, 0, 1))\n",
    "print(image.shape)\n",
    "indices = np.moveaxis(indices, (0, 1, 2), (2, 0, 1))\n",
    "print(indices.shape)\n",
    "textures = np.moveaxis(textures, (0, 1, 2), (2, 0, 1))\n",
    "print(textures.shape)\n",
    "\n",
    "features = np.dstack((mask_id, mask_conf, image, indices, textures))\n",
    "print(features.shape)\n",
    "sz1 = features.shape[0]\n",
    "sz2 = features.shape[1]\n",
    "features = np.reshape(features, (sz1*sz2, -1))\n",
    "print(features.shape)\n",
    "\n",
    "features = features[features[:, 0] > 0]\n",
    "features.shape"
   ]
  },
  {
   "cell_type": "code",
   "execution_count": null,
   "metadata": {},
   "outputs": [],
   "source": [
    "# features_formated_for_df = [features[:, 0], features[:, 1], features[:, 2:]]\n",
    "columns = ['Class','Conf',\"B1\", \"B2\", \"B3\", \"B4\", \"B5\", \"B6\", \"B7\", \"B8\", \"B8A\", \"B11\", \"B12\", \n",
    "    \"NDVI\", \"FAI\", \"FDI\", \"SI\", \"NDWI\", \"NRD\", \"NDMI\", \"BSI\",\n",
    "    \"con\", \"dis\", \"homo\", \"ener\", \"cor\", \"asm\"]\n",
    "df = pd.DataFrame(features, columns = columns)"
   ]
  },
  {
   "cell_type": "code",
   "execution_count": null,
   "metadata": {},
   "outputs": [],
   "source": [
    "df.head(30)"
   ]
  },
  {
   "cell_type": "code",
   "execution_count": 4,
   "metadata": {},
   "outputs": [],
   "source": [
    "data_path = '/data/sushen/marinedebris/MARIDA'\n",
    "mask_id_path = '/data/sushen/marinedebris/project/masks_id/'\n",
    "mask_conf_path = '/data/sushen/marinedebris/project/masks_conf/'\n",
    "hdf_path = '/data/sushen/marinedebris/project'\n",
    "\n",
    "dataset_name = os.path.join(hdf_path, 'dataset.h5')"
   ]
  },
  {
   "cell_type": "code",
   "execution_count": null,
   "metadata": {},
   "outputs": [],
   "source": [
    "\n",
    "hdf = pd.HDFStore(dataset_name, mode = 'w')\n",
    "hdf.append('train', df, format='table', data_columns=True)\n",
    "# hdf.append('train', df, format='table', data_columns=True)\n",
    "hdf.close()"
   ]
  },
  {
   "cell_type": "code",
   "execution_count": 11,
   "metadata": {},
   "outputs": [
    {
     "data": {
      "text/plain": [
       "array([ 1.,  4., 15.,  7., 14.,  5.,  6., 13., 12., 10.,  8., 11.,  9.,\n",
       "        3.,  2.])"
      ]
     },
     "execution_count": 11,
     "metadata": {},
     "output_type": "execute_result"
    }
   ],
   "source": [
    "hdf_ss = pd.HDFStore(dataset_name, mode = 'r')\n",
    "df_train = hdf_ss.select('train')\n",
    "hdf_ss.close()\n",
    "# df_train.columns\n",
    "df_train['Class'].unique()\n",
    "# df_train.loc[df_train['Class'] == 'unknown']"
   ]
  },
  {
   "cell_type": "code",
   "execution_count": 10,
   "metadata": {},
   "outputs": [
    {
     "data": {
      "text/html": [
       "<div>\n",
       "<style scoped>\n",
       "    .dataframe tbody tr th:only-of-type {\n",
       "        vertical-align: middle;\n",
       "    }\n",
       "\n",
       "    .dataframe tbody tr th {\n",
       "        vertical-align: top;\n",
       "    }\n",
       "\n",
       "    .dataframe thead th {\n",
       "        text-align: right;\n",
       "    }\n",
       "</style>\n",
       "<table border=\"1\" class=\"dataframe\">\n",
       "  <thead>\n",
       "    <tr style=\"text-align: right;\">\n",
       "      <th></th>\n",
       "      <th>nm440</th>\n",
       "      <th>nm490</th>\n",
       "      <th>nm560</th>\n",
       "      <th>nm665</th>\n",
       "      <th>nm705</th>\n",
       "      <th>nm740</th>\n",
       "      <th>nm783</th>\n",
       "      <th>nm842</th>\n",
       "      <th>nm865</th>\n",
       "      <th>nm1600</th>\n",
       "      <th>nm2200</th>\n",
       "      <th>Confidence</th>\n",
       "      <th>Class</th>\n",
       "      <th>XCoords</th>\n",
       "      <th>YCoords</th>\n",
       "      <th>Date</th>\n",
       "      <th>Tile</th>\n",
       "      <th>Image</th>\n",
       "    </tr>\n",
       "  </thead>\n",
       "  <tbody>\n",
       "    <tr>\n",
       "      <th>0</th>\n",
       "      <td>0.102549</td>\n",
       "      <td>0.099589</td>\n",
       "      <td>0.083065</td>\n",
       "      <td>0.060977</td>\n",
       "      <td>0.054536</td>\n",
       "      <td>0.056019</td>\n",
       "      <td>0.058678</td>\n",
       "      <td>0.049876</td>\n",
       "      <td>0.056887</td>\n",
       "      <td>0.042395</td>\n",
       "      <td>0.032179</td>\n",
       "      <td>High</td>\n",
       "      <td>Wakes</td>\n",
       "      <td>709065.0</td>\n",
       "      <td>9340935.0</td>\n",
       "      <td>1-12-19</td>\n",
       "      <td>48MYU</td>\n",
       "      <td>0</td>\n",
       "    </tr>\n",
       "    <tr>\n",
       "      <th>1</th>\n",
       "      <td>0.102549</td>\n",
       "      <td>0.102169</td>\n",
       "      <td>0.085815</td>\n",
       "      <td>0.064754</td>\n",
       "      <td>0.054536</td>\n",
       "      <td>0.056019</td>\n",
       "      <td>0.058678</td>\n",
       "      <td>0.052938</td>\n",
       "      <td>0.056887</td>\n",
       "      <td>0.042395</td>\n",
       "      <td>0.032179</td>\n",
       "      <td>High</td>\n",
       "      <td>Wakes</td>\n",
       "      <td>709065.0</td>\n",
       "      <td>9340925.0</td>\n",
       "      <td>1-12-19</td>\n",
       "      <td>48MYU</td>\n",
       "      <td>0</td>\n",
       "    </tr>\n",
       "    <tr>\n",
       "      <th>2</th>\n",
       "      <td>0.101787</td>\n",
       "      <td>0.103341</td>\n",
       "      <td>0.085705</td>\n",
       "      <td>0.068320</td>\n",
       "      <td>0.054536</td>\n",
       "      <td>0.055916</td>\n",
       "      <td>0.059498</td>\n",
       "      <td>0.053244</td>\n",
       "      <td>0.057091</td>\n",
       "      <td>0.042195</td>\n",
       "      <td>0.032279</td>\n",
       "      <td>High</td>\n",
       "      <td>Wakes</td>\n",
       "      <td>709065.0</td>\n",
       "      <td>9340915.0</td>\n",
       "      <td>1-12-19</td>\n",
       "      <td>48MYU</td>\n",
       "      <td>0</td>\n",
       "    </tr>\n",
       "    <tr>\n",
       "      <th>3</th>\n",
       "      <td>0.101787</td>\n",
       "      <td>0.101699</td>\n",
       "      <td>0.085045</td>\n",
       "      <td>0.063495</td>\n",
       "      <td>0.054328</td>\n",
       "      <td>0.051480</td>\n",
       "      <td>0.052932</td>\n",
       "      <td>0.051815</td>\n",
       "      <td>0.053328</td>\n",
       "      <td>0.039091</td>\n",
       "      <td>0.029878</td>\n",
       "      <td>High</td>\n",
       "      <td>Wakes</td>\n",
       "      <td>709055.0</td>\n",
       "      <td>9340905.0</td>\n",
       "      <td>1-12-19</td>\n",
       "      <td>48MYU</td>\n",
       "      <td>0</td>\n",
       "    </tr>\n",
       "    <tr>\n",
       "      <th>4</th>\n",
       "      <td>0.101787</td>\n",
       "      <td>0.100058</td>\n",
       "      <td>0.087575</td>\n",
       "      <td>0.065488</td>\n",
       "      <td>0.054536</td>\n",
       "      <td>0.055916</td>\n",
       "      <td>0.059498</td>\n",
       "      <td>0.052223</td>\n",
       "      <td>0.057091</td>\n",
       "      <td>0.042195</td>\n",
       "      <td>0.032279</td>\n",
       "      <td>High</td>\n",
       "      <td>Wakes</td>\n",
       "      <td>709065.0</td>\n",
       "      <td>9340905.0</td>\n",
       "      <td>1-12-19</td>\n",
       "      <td>48MYU</td>\n",
       "      <td>0</td>\n",
       "    </tr>\n",
       "  </tbody>\n",
       "</table>\n",
       "</div>"
      ],
      "text/plain": [
       "      nm440     nm490     nm560     nm665     nm705     nm740     nm783  \\\n",
       "0  0.102549  0.099589  0.083065  0.060977  0.054536  0.056019  0.058678   \n",
       "1  0.102549  0.102169  0.085815  0.064754  0.054536  0.056019  0.058678   \n",
       "2  0.101787  0.103341  0.085705  0.068320  0.054536  0.055916  0.059498   \n",
       "3  0.101787  0.101699  0.085045  0.063495  0.054328  0.051480  0.052932   \n",
       "4  0.101787  0.100058  0.087575  0.065488  0.054536  0.055916  0.059498   \n",
       "\n",
       "      nm842     nm865    nm1600    nm2200 Confidence  Class   XCoords  \\\n",
       "0  0.049876  0.056887  0.042395  0.032179       High  Wakes  709065.0   \n",
       "1  0.052938  0.056887  0.042395  0.032179       High  Wakes  709065.0   \n",
       "2  0.053244  0.057091  0.042195  0.032279       High  Wakes  709065.0   \n",
       "3  0.051815  0.053328  0.039091  0.029878       High  Wakes  709055.0   \n",
       "4  0.052223  0.057091  0.042195  0.032279       High  Wakes  709065.0   \n",
       "\n",
       "     YCoords     Date   Tile Image  \n",
       "0  9340935.0  1-12-19  48MYU     0  \n",
       "1  9340925.0  1-12-19  48MYU     0  \n",
       "2  9340915.0  1-12-19  48MYU     0  \n",
       "3  9340905.0  1-12-19  48MYU     0  \n",
       "4  9340905.0  1-12-19  48MYU     0  "
      ]
     },
     "execution_count": 10,
     "metadata": {},
     "output_type": "execute_result"
    }
   ],
   "source": [
    "hdf_ss = pd.HDFStore('/data/sushen/marinedebris/MARIDA/dataset.h5', mode = 'r')\n",
    "df_train = hdf_ss.select('train')\n",
    "hdf_ss.close()\n",
    "df_train.head()"
   ]
  },
  {
   "cell_type": "code",
   "execution_count": null,
   "metadata": {},
   "outputs": [],
   "source": [
    "hdf_ss = pd.HDFStore(dataset_name, mode = 'r')\n",
    "df_train = hdf_ss.select('train')\n",
    "# df_train.drop_duplicates()\n",
    "# print(len(df_train))\n",
    "hdf_ss.close()"
   ]
  },
  {
   "cell_type": "code",
   "execution_count": null,
   "metadata": {},
   "outputs": [],
   "source": [
    "len(df_train)"
   ]
  },
  {
   "cell_type": "code",
   "execution_count": null,
   "metadata": {},
   "outputs": [],
   "source": [
    "for i in tqdm(np.arange(63)):\n",
    "    for j in tqdm(np.arange(5)):\n",
    "        time.sleep(0.5)"
   ]
  },
  {
   "cell_type": "code",
   "execution_count": null,
   "metadata": {},
   "outputs": [],
   "source": [
    "!nvidia-smi"
   ]
  },
  {
   "cell_type": "code",
   "execution_count": null,
   "metadata": {},
   "outputs": [],
   "source": [
    "data_path = '/data/sushen/marinedebris/MARIDA'\n",
    "mask_id_path = '/data/sushen/marinedebris/project/masks_id/'\n",
    "mask_conf_path = '/data/sushen/marinedebris/project/masks_conf/'\n",
    "hdf_path = '/data/sushen/marinedebris/project'\n",
    "\n",
    "for i in tqdm(np.arange(len(df_map_scenes))):\n",
    "    scene_name = df_map_scenes.iloc[i]['tifpath']\n",
    "    shp_name = df_map_scenes.iloc[i]['s2name']\n",
    "    region_name = df_map_scenes.iloc[i]['region']\n",
    "\n",
    "    tif_file_path = os.path.join(data_path, 'scenes', scene_name)\n",
    "    shp_file_path = os.path.join(data_path, 'shapefiles', shp_name)\n",
    "    mask_id_file_path = os.path.join(mask_id_path, region_name + \".tif\")\n",
    "    mask_conf_file_path = os.path.join(mask_conf_path, region_name + \".tif\")\n",
    "\n",
    "    # Rasterio Image opening\n",
    "    with rio.open(tif_file_path) as src:\n",
    "        crs = src.crs\n",
    "        width = src.width\n",
    "        height = src.height\n",
    "        transform = src.transform\n",
    "        profile = src.profile\n",
    "\n",
    "    # Geopandas Data Frame read\n",
    "    gdf = gpd.read_file(shp_file_path)\n",
    "\n"
   ]
  },
  {
   "cell_type": "code",
   "execution_count": null,
   "metadata": {},
   "outputs": [],
   "source": [
    "# gdf.head()"
   ]
  },
  {
   "cell_type": "code",
   "execution_count": null,
   "metadata": {},
   "outputs": [],
   "source": [
    "df_map_scenes.head()"
   ]
  },
  {
   "cell_type": "code",
   "execution_count": null,
   "metadata": {},
   "outputs": [],
   "source": []
  }
 ],
 "metadata": {
  "kernelspec": {
   "display_name": "Python 3.8.13 ('marinedebris': conda)",
   "language": "python",
   "name": "python3"
  },
  "language_info": {
   "codemirror_mode": {
    "name": "ipython",
    "version": 3
   },
   "file_extension": ".py",
   "mimetype": "text/x-python",
   "name": "python",
   "nbconvert_exporter": "python",
   "pygments_lexer": "ipython3",
   "version": "3.8.13 (default, Oct 21 2022, 23:50:54) \n[GCC 11.2.0]"
  },
  "orig_nbformat": 4,
  "vscode": {
   "interpreter": {
    "hash": "04b59f4b977491cf6d37824be3d8880c69ee74816be31ee150b1658daa1325c9"
   }
  }
 },
 "nbformat": 4,
 "nbformat_minor": 2
}
