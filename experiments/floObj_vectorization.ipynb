{
 "cells": [
  {
   "cell_type": "code",
   "execution_count": 1,
   "metadata": {},
   "outputs": [],
   "source": [
    "import glob\n",
    "import geopandas as gpd\n",
    "import os\n",
    "import sys\n",
    "import rasterio as rio\n",
    "from rasterio.features import rasterize, geometry_window\n",
    "import rasterio.windows\n",
    "import pandas as pd\n",
    "import numpy as np\n",
    "from tqdm import tqdm\n",
    "from joblib import load\n",
    "\n",
    "from shapely.geometry import LineString, Polygon\n",
    "\n",
    "sys.path.append('/home/sushen/marine_debris_semester_project')\n",
    "# from model.random_forest.random_forest import get_random_forest\n",
    "from data.utils_file import pad\n",
    "\n",
    "from harmonization_scripts.feature_extraction import calculate_indices, calculate_texture"
   ]
  },
  {
   "cell_type": "code",
   "execution_count": 6,
   "metadata": {},
   "outputs": [
    {
     "name": "stdout",
     "output_type": "stream",
     "text": [
      "26\n",
      "26\n"
     ]
    }
   ],
   "source": [
    "# Folder contents paths\n",
    "list_tif = glob.glob(\"/data/sushen/marinedebris/floatingobjects/scenes/*.tif\")\n",
    "list_shp = glob.glob(\"/data/sushen/marinedebris/floatingobjects/shapefiles/*.shp\")\n",
    "output_path = '/data/sushen/marinedebris/project/floObj_shapefiles'\n",
    "\n",
    "# Remove l2a files\n",
    "list_tif = [ x for x in list_tif if \"l2a\" not in x ]\n",
    "\n",
    "print(len(list_tif))\n",
    "print(len(list_shp))"
   ]
  },
  {
   "cell_type": "code",
   "execution_count": 7,
   "metadata": {},
   "outputs": [
    {
     "name": "stdout",
     "output_type": "stream",
     "text": [
      "biscay_20180419.shp\n"
     ]
    }
   ],
   "source": [
    "image_index = 6\n",
    "\n",
    "tif_file_path = list_tif[image_index]\n",
    "shp_file_path = list_shp[image_index]\n",
    "\n",
    "# output_path = '/data/sushen/marinedebris/project/shapefiles_floObj'\n",
    "shp_filename = os.path.basename(shp_file_path)\n",
    "# output_shp_file_path = os.path.join(output_path, shp_filename)\n",
    " \n",
    "print(shp_filename)\n",
    " "
   ]
  },
  {
   "cell_type": "code",
   "execution_count": 8,
   "metadata": {},
   "outputs": [
    {
     "data": {
      "text/plain": [
       "879"
      ]
     },
     "execution_count": 8,
     "metadata": {},
     "output_type": "execute_result"
    }
   ],
   "source": [
    "# Rasterio Image opening\n",
    "with rio.open(tif_file_path, \"r\") as src:\n",
    "    crs = src.crs\n",
    "    transform = src.transform\n",
    "\n",
    "# Open geopandas dataframe and use corresponding CRS\n",
    "gdf_lines = gpd.read_file(shp_file_path)\n",
    "gdf_lines = gdf_lines.to_crs(crs)\n",
    "len(gdf_lines)"
   ]
  },
  {
   "cell_type": "code",
   "execution_count": 9,
   "metadata": {},
   "outputs": [
    {
     "name": "stdout",
     "output_type": "stream",
     "text": [
      "603033.6838130676 4822395.829196161 603193.6838130676 4822555.829196161\n"
     ]
    }
   ],
   "source": [
    "# From the geometry object, create a window so that we read the scene only in that window\n",
    "\n",
    "imagesize = 16*10\n",
    "row_index = 0\n",
    "row = gdf_lines.iloc[row_index]\n",
    "\n",
    "minx, miny, maxx, maxy = row.geometry.centroid.buffer(imagesize // 2).bounds\n",
    "window = rasterio.windows.from_bounds(minx, miny, maxx, maxy, transform = transform)\n",
    "width = int(window.width)\n",
    "height = int(window.height)\n",
    "print(minx, miny, maxx, maxy)\n",
    "\n",
    "# Open the scene using the window\n",
    "with rio.open(tif_file_path, \"r\") as src_crop:\n",
    "        transform_crop = src_crop.window_transform(window)\n",
    "        image_crop = src_crop.read(window=window)\n",
    "# print(image_crop)\n",
    "      "
   ]
  },
  {
   "cell_type": "code",
   "execution_count": 7,
   "metadata": {},
   "outputs": [
    {
     "ename": "IndexError",
     "evalue": "index 13 is out of bounds for axis 1 with size 13",
     "output_type": "error",
     "traceback": [
      "\u001b[0;31m---------------------------------------------------------------------------\u001b[0m",
      "\u001b[0;31mIndexError\u001b[0m                                Traceback (most recent call last)",
      "Cell \u001b[0;32mIn [7], line 3\u001b[0m\n\u001b[1;32m      1\u001b[0m \u001b[39m# Calculate indices & textures\u001b[39;00m\n\u001b[1;32m      2\u001b[0m indices \u001b[39m=\u001b[39m calculate_indices(image_crop)\n\u001b[0;32m----> 3\u001b[0m textures \u001b[39m=\u001b[39m calculate_texture(image_crop)\n\u001b[1;32m      5\u001b[0m \u001b[39m# Remove unused bands and reorder axis\u001b[39;00m\n\u001b[1;32m      6\u001b[0m image_crop \u001b[39m=\u001b[39m np\u001b[39m.\u001b[39mdelete(image_crop, [\u001b[39m9\u001b[39m, \u001b[39m10\u001b[39m], axis \u001b[39m=\u001b[39m \u001b[39m0\u001b[39m)\n",
      "File \u001b[0;32m~/marine_debris_semester_project/sandbox/feature_extraction.py:73\u001b[0m, in \u001b[0;36mcalculate_texture\u001b[0;34m(img, window_size, max_value)\u001b[0m\n\u001b[1;32m     70\u001b[0m matrix_coocurrence \u001b[39m=\u001b[39m matrix_coocurrence\u001b[39m.\u001b[39mmean(\u001b[39m3\u001b[39m)[:, :, :, np\u001b[39m.\u001b[39mnewaxis]\n\u001b[1;32m     72\u001b[0m con, dis, homo, ener, cor, asm \u001b[39m=\u001b[39m eng\u001b[39m.\u001b[39mglcm_feature(matrix_coocurrence)\n\u001b[0;32m---> 73\u001b[0m features_results[row \u001b[39m-\u001b[39;49m (window_size \u001b[39m-\u001b[39;49m \u001b[39m1\u001b[39;49m) \u001b[39m/\u001b[39;49m\u001b[39m/\u001b[39;49m \u001b[39m2\u001b[39;49m, col \u001b[39m-\u001b[39;49m (window_size \u001b[39m-\u001b[39;49m \u001b[39m1\u001b[39;49m) \u001b[39m/\u001b[39;49m\u001b[39m/\u001b[39;49m \u001b[39m2\u001b[39;49m, \u001b[39m0\u001b[39;49m] \u001b[39m=\u001b[39m con\n\u001b[1;32m     74\u001b[0m features_results[row \u001b[39m-\u001b[39m (window_size \u001b[39m-\u001b[39m \u001b[39m1\u001b[39m) \u001b[39m/\u001b[39m\u001b[39m/\u001b[39m \u001b[39m2\u001b[39m, col \u001b[39m-\u001b[39m (window_size \u001b[39m-\u001b[39m \u001b[39m1\u001b[39m) \u001b[39m/\u001b[39m\u001b[39m/\u001b[39m \u001b[39m2\u001b[39m, \u001b[39m1\u001b[39m] \u001b[39m=\u001b[39m dis\n\u001b[1;32m     75\u001b[0m features_results[row \u001b[39m-\u001b[39m (window_size \u001b[39m-\u001b[39m \u001b[39m1\u001b[39m) \u001b[39m/\u001b[39m\u001b[39m/\u001b[39m \u001b[39m2\u001b[39m, col \u001b[39m-\u001b[39m (window_size \u001b[39m-\u001b[39m \u001b[39m1\u001b[39m) \u001b[39m/\u001b[39m\u001b[39m/\u001b[39m \u001b[39m2\u001b[39m, \u001b[39m2\u001b[39m] \u001b[39m=\u001b[39m homo\n",
      "\u001b[0;31mIndexError\u001b[0m: index 13 is out of bounds for axis 1 with size 13"
     ]
    }
   ],
   "source": [
    "# Calculate indices & textures\n",
    "indices = calculate_indices(image_crop)\n",
    "textures = calculate_texture(image_crop)\n",
    "\n",
    "# Remove unused bands and reorder axis\n",
    "image_crop = np.delete(image_crop, [9, 10], axis = 0)\n",
    "\n",
    "image_crop = np.moveaxis(image_crop, (0, 1, 2), (2, 0, 1))\n",
    "indices = np.moveaxis(indices, (0, 1, 2), (2, 0, 1))\n",
    "textures = np.moveaxis(textures, (0, 1, 2), (2, 0, 1))\n",
    "\n",
    "# Stacking features and reshaping into a 2d array of shape [#pixel, #bands]\n",
    "features = np.dstack((image_crop, indices, textures))\n",
    "sz1 = features.shape[0]\n",
    "sz2 = features.shape[1]\n",
    "\n",
    "features = np.reshape(features, (sz1*sz2, -1))  "
   ]
  },
  {
   "cell_type": "code",
   "execution_count": null,
   "metadata": {},
   "outputs": [],
   "source": [
    "# Create a 2d mask \n",
    "geometry_object = gdf_lines.iloc[[row_index]].geometry\n",
    "mask_2d = rasterize(geometry_object, all_touched=True,\n",
    "                transform=transform_crop, out_shape=(height, width))\n",
    "print(mask_2d)\n",
    "\n",
    "mask_2d = np.reshape(mask_2d, sz1*sz2)\n",
    "bool_mask_2d = mask_2d > 0 \n",
    "bool_mask_2d.shape\n",
    "\n",
    "geometry_features = features[bool_mask_2d, :]\n",
    "print(geometry_features.shape)"
   ]
  },
  {
   "cell_type": "code",
   "execution_count": null,
   "metadata": {},
   "outputs": [],
   "source": [
    "cl_path = '/data/sushen/marinedebris/project/rf_classifier.joblib'\n",
    "rf_classifier = load(cl_path)"
   ]
  },
  {
   "cell_type": "code",
   "execution_count": null,
   "metadata": {},
   "outputs": [],
   "source": [
    "prediction = rf_classifier.predict(geometry_features)"
   ]
  },
  {
   "cell_type": "code",
   "execution_count": null,
   "metadata": {},
   "outputs": [],
   "source": [
    "print(prediction)"
   ]
  },
  {
   "cell_type": "code",
   "execution_count": null,
   "metadata": {},
   "outputs": [],
   "source": [
    "a = np.array([3, 0, 0, 0, 0, 1, 1, 4, 4, 4, 4, 4])\n",
    "values, counts = np.unique(a, return_counts=True)\n",
    "ind = np.argmax(counts)\n",
    "# print(values)\n",
    "# print(ind)\n",
    "print(values[ind])  # prints the most frequent element"
   ]
  },
  {
   "cell_type": "code",
   "execution_count": null,
   "metadata": {},
   "outputs": [],
   "source": [
    "gdf_test = gpd.read_file('/data/sushen/marinedebris/project/floObj_shapefiles/kentpointfarm_20180710.shp')\n",
    "gdf_test['marida_cla'].value_counts()"
   ]
  },
  {
   "cell_type": "code",
   "execution_count": null,
   "metadata": {},
   "outputs": [],
   "source": []
  },
  {
   "cell_type": "code",
   "execution_count": null,
   "metadata": {},
   "outputs": [],
   "source": []
  }
 ],
 "metadata": {
  "kernelspec": {
   "display_name": "Python 3.8.13 ('marinedebris': conda)",
   "language": "python",
   "name": "python3"
  },
  "language_info": {
   "codemirror_mode": {
    "name": "ipython",
    "version": 3
   },
   "file_extension": ".py",
   "mimetype": "text/x-python",
   "name": "python",
   "nbconvert_exporter": "python",
   "pygments_lexer": "ipython3",
   "version": "3.8.13"
  },
  "orig_nbformat": 4,
  "vscode": {
   "interpreter": {
    "hash": "04b59f4b977491cf6d37824be3d8880c69ee74816be31ee150b1658daa1325c9"
   }
  }
 },
 "nbformat": 4,
 "nbformat_minor": 2
}
