{
 "cells": [
  {
   "cell_type": "code",
   "execution_count": null,
   "metadata": {},
   "outputs": [],
   "source": [
    "import os\n",
    "import sys\n",
    "import argparse\n",
    "import numpy as np\n",
    "import pandas as pd\n",
    "from glob import glob\n",
    "from tqdm import tqdm\n",
    "from osgeo import gdal\n",
    "from os.path import dirname as up"
   ]
  },
  {
   "cell_type": "markdown",
   "metadata": {},
   "source": [
    "Tutorial : https://www.gis.usu.edu/~chrisg/python/2009/lectures/ospy_slides4.pdf \\\n",
    "Affine transformation \"GetGeoTransform\" : https://gdal.org/user/raster_data_model.html \\\n",
    "Intersection function : https://sciience.tumblr.com/post/101722591382/finding-the-georeferenced-intersection-between-two"
   ]
  },
  {
   "cell_type": "code",
   "execution_count": null,
   "metadata": {},
   "outputs": [],
   "source": [
    "RefImage = '/data/sushen/marinedebris/MARIDA/patches/S2_1-12-19_48MYU/S2_1-12-19_48MYU_0.tif'\n",
    "ds = gdal.Open(RefImage)\n",
    "IM = np.copy(ds.ReadAsArray())\n",
    "print(IM.shape)\n",
    "\n",
    "# Read associated confidence level patch\n",
    "ds_conf = gdal.Open(os.path.join(up(RefImage), '_'.join(os.path.basename(RefImage).split('.tif')[0].split('_')[:4]) + '_conf.tif'))\n",
    "IM_conf = np.copy(ds_conf.ReadAsArray())[np.newaxis, :, :]\n",
    "print(IM_conf.shape)\n",
    "\n",
    "# Read associated class patch\n",
    "ds_cl = gdal.Open(os.path.join(up(RefImage), '_'.join(os.path.basename(RefImage).split('.tif')[0].split('_')[:4]) + '_cl.tif'))\n",
    "IM_cl = np.copy(ds_cl.ReadAsArray())[np.newaxis, :, :]\n",
    "print(IM_cl.shape)\n",
    "\n",
    "IM_T = np.moveaxis(np.concatenate([IM, IM_conf, IM_cl], axis = 0), 0, -1)\n",
    "print(IM_T.shape)"
   ]
  },
  {
   "cell_type": "code",
   "execution_count": null,
   "metadata": {},
   "outputs": [],
   "source": [
    "padfTransform = ds.GetGeoTransform()\n",
    "print('Transform is: ', padfTransform)\n",
    "\n",
    "y_coords, x_coords = np.meshgrid(range(IM_T.shape[0]), range(IM_T.shape[1]), indexing='ij')\n",
    "\n",
    "Xp = padfTransform[0] + x_coords*padfTransform[1] + y_coords*padfTransform[2]\n",
    "Yp = padfTransform[3] + x_coords*padfTransform[4] + y_coords*padfTransform[5]\n",
    "\n",
    "# shift to the center of the pixel\n",
    "Xp -= padfTransform[5] / 2.0\n",
    "Yp -= padfTransform[1] / 2.0\n",
    "print('Xp shape is: ', Xp.shape)\n",
    "print('Yp shape is: ', Yp.shape)\n",
    "\n",
    "XpYp = np.dstack((Xp,Yp))\n",
    "print('XpYp shape is: ', XpYp.shape)\n",
    "\n",
    "IM_T = np.concatenate((IM_T, XpYp), axis=2)\n",
    "print('IM_T shape is: ', IM_T.shape)"
   ]
  },
  {
   "cell_type": "code",
   "execution_count": null,
   "metadata": {},
   "outputs": [],
   "source": [
    "print(Xp[1,1])\n",
    "print(Xp[1,2])\n",
    "print(Xp[2,1])\n",
    "print(Xp[2,2])\n",
    "\n",
    "print(Yp[1,1])\n",
    "print(Yp[1,2])\n",
    "print(Yp[2,1])\n",
    "print(Yp[2,2])"
   ]
  },
  {
   "cell_type": "code",
   "execution_count": null,
   "metadata": {},
   "outputs": [],
   "source": [
    "# Read scene\n",
    "RefScene = '/data/sushen/marinedebris/MARIDA/scenes/S2_20191201T030101_20191201T031728_T48MYU.tif'\n",
    "ds_scene = gdal.Open(RefScene)\n",
    "IM_scene = np.copy(ds_scene.ReadAsArray())\n",
    "print('IM_scene shape: ', IM_scene.shape)\n",
    "\n",
    "IM_scene = np.moveaxis(IM_scene, 0, -1)\n",
    "print('IM_scene shape: ', IM_scene.shape)"
   ]
  },
  {
   "cell_type": "code",
   "execution_count": null,
   "metadata": {},
   "outputs": [],
   "source": [
    "padfTransformScene = ds_scene.GetGeoTransform()\n",
    "print('Transform is: ', padfTransformScene)\n",
    "\n",
    "y_coords, x_coords = np.meshgrid(range(IM_scene.shape[0]), range(IM_scene.shape[1]), indexing='ij')\n",
    "\n",
    "Xp = padfTransformScene[0] + x_coords*padfTransformScene[1] + y_coords*padfTransformScene[2]\n",
    "Yp = padfTransformScene[3] + x_coords*padfTransformScene[4] + y_coords*padfTransformScene[5]\n",
    "\n",
    "# shift to the center of the pixel\n",
    "Xp -= padfTransformScene[5] / 2.0\n",
    "Yp -= padfTransformScene[1] / 2.0\n",
    "print('Xp shape is: ', Xp.shape)\n",
    "print('Yp shape is: ', Yp.shape)\n",
    "\n",
    "XpYp = np.dstack((Xp,Yp))\n",
    "print('XpYp shape is: ', XpYp.shape)\n",
    "\n",
    "IM_scene = np.concatenate((IM_scene, XpYp), axis=2)\n",
    "print('IM_scene shape is: ', IM_scene.shape)"
   ]
  },
  {
   "cell_type": "code",
   "execution_count": null,
   "metadata": {},
   "outputs": [],
   "source": [
    "print(Xp[1,1])\n",
    "print(Xp[1,2])\n",
    "print(Xp[2,1])\n",
    "print(Xp[2,2])\n",
    "\n",
    "print(Yp[1,1])\n",
    "print(Yp[1,2])\n",
    "print(Yp[2,1])\n",
    "print(Yp[2,2])"
   ]
  },
  {
   "cell_type": "code",
   "execution_count": null,
   "metadata": {},
   "outputs": [],
   "source": [
    "import geopandas as gpd\n",
    "import rasterio as rio"
   ]
  },
  {
   "cell_type": "code",
   "execution_count": null,
   "metadata": {},
   "outputs": [],
   "source": [
    "gdf = gpd.read_file('/data/sushen/marinedebris/MARIDA/shapefiles/S2_1-12-19_48MYU.shp')\n",
    "gdf.head(15)"
   ]
  },
  {
   "cell_type": "code",
   "execution_count": null,
   "metadata": {},
   "outputs": [],
   "source": [
    "with rio.open('/data/sushen/marinedebris/MARIDA/patches/S2_1-12-19_48MYU/S2_1-12-19_48MYU_0.tif') as src:\n",
    "    crs = src.crs\n",
    "    width = src.width\n",
    "    height = src.height\n",
    "    transform = src.transform\n",
    "    profile = src.profile\n",
    "\n",
    "    print(transform)"
   ]
  },
  {
   "cell_type": "code",
   "execution_count": null,
   "metadata": {},
   "outputs": [],
   "source": []
  }
 ],
 "metadata": {
  "kernelspec": {
   "display_name": "Python 3.8.10 ('marinedebris': conda)",
   "language": "python",
   "name": "python3"
  },
  "language_info": {
   "codemirror_mode": {
    "name": "ipython",
    "version": 3
   },
   "file_extension": ".py",
   "mimetype": "text/x-python",
   "name": "python",
   "nbconvert_exporter": "python",
   "pygments_lexer": "ipython3",
   "version": "3.8.13"
  },
  "orig_nbformat": 4,
  "vscode": {
   "interpreter": {
    "hash": "04b59f4b977491cf6d37824be3d8880c69ee74816be31ee150b1658daa1325c9"
   }
  }
 },
 "nbformat": 4,
 "nbformat_minor": 2
}
