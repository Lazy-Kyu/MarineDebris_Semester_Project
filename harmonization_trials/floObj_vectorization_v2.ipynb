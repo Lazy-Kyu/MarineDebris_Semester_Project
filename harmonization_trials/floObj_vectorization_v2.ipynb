{
 "cells": [
  {
   "cell_type": "code",
   "execution_count": 1,
   "metadata": {},
   "outputs": [],
   "source": [
    "import glob\n",
    "import geopandas as gpd\n",
    "import os\n",
    "import sys\n",
    "import rasterio as rio\n",
    "from rasterio.features import rasterize\n",
    "import rasterio.windows\n",
    "import pandas as pd\n",
    "import numpy as np\n",
    "from tqdm import tqdm\n",
    "from joblib import load\n",
    "\n",
    "from shapely.geometry import LineString, Polygon\n",
    "\n",
    "sys.path.append('/home/sushen/marine_debris_semester_project')\n",
    "# from model.random_forest.random_forest import get_random_forest\n",
    "\n",
    "from harmonization_scripts.feature_extraction import calculate_indices, calculate_texture\n",
    "from data.utils_file import pad"
   ]
  },
  {
   "cell_type": "code",
   "execution_count": 2,
   "metadata": {},
   "outputs": [],
   "source": [
    "def line_is_closed(linestringgeometry):\n",
    "    coordinates = np.stack(linestringgeometry.xy).T\n",
    "    first_point = coordinates[0]\n",
    "    last_point = coordinates[-1]\n",
    "    return bool((first_point == last_point).all())"
   ]
  },
  {
   "cell_type": "code",
   "execution_count": 2,
   "metadata": {},
   "outputs": [],
   "source": [
    "# Indicates which RF Classifier we will use, 0 = old classes, 1 = new classes\n",
    "classifier_index = 1\n",
    "\n",
    "# Folder contents paths\n",
    "list_tif = glob.glob(\"/data/sushen/marinedebris/floatingobjects/scenes/*.tif\")\n",
    "list_shp = glob.glob(\"/data/sushen/marinedebris/floatingobjects/shapefiles/*.shp\")\n",
    "output_paths = ['/data/sushen/marinedebris/project/floObj_shapefiles_old_classes/', '/data/sushen/marinedebris/project/floObj_shapefiles_new_classes/']\n",
    "output_path = output_paths[classifier_index]\n",
    "\n",
    "# Remove l2a files\n",
    "list_tif = [ x for x in list_tif if \"l2a\" not in x ]\n",
    "\n",
    "# Random forest Classifier\n",
    "cl_paths = ['/data/sushen/marinedebris/project/rf_classifier_old_classes.joblib', '/data/sushen/marinedebris/project/rf_classifier_new_classes.joblib']\n",
    "cl_path = cl_paths[classifier_index]\n",
    "rf_classifier = load(cl_path)"
   ]
  },
  {
   "cell_type": "code",
   "execution_count": 3,
   "metadata": {},
   "outputs": [
    {
     "name": "stdout",
     "output_type": "stream",
     "text": [
      "['/data/sushen/marinedebris/floatingobjects/scenes/accra_20181031.tif', '/data/sushen/marinedebris/floatingobjects/scenes/biscay_20180419.tif', '/data/sushen/marinedebris/floatingobjects/scenes/danang_20181005.tif', '/data/sushen/marinedebris/floatingobjects/scenes/kentpointfarm_20180710.tif', '/data/sushen/marinedebris/floatingobjects/scenes/kolkata_20201115.tif', '/data/sushen/marinedebris/floatingobjects/scenes/lagos_20190101.tif', '/data/sushen/marinedebris/floatingobjects/scenes/lagos_20200505.tif', '/data/sushen/marinedebris/floatingobjects/scenes/london_20180611.tif', '/data/sushen/marinedebris/floatingobjects/scenes/longxuyen_20181102.tif', '/data/sushen/marinedebris/floatingobjects/scenes/mandaluyong_20180314.tif', '/data/sushen/marinedebris/floatingobjects/scenes/neworleans_20200202.tif', '/data/sushen/marinedebris/floatingobjects/scenes/panama_20190425.tif', '/data/sushen/marinedebris/floatingobjects/scenes/portalfredSouthAfrica_20180601.tif', '/data/sushen/marinedebris/floatingobjects/scenes/riodejaneiro_20180504.tif', '/data/sushen/marinedebris/floatingobjects/scenes/sandiego_20180804.tif', '/data/sushen/marinedebris/floatingobjects/scenes/sanfrancisco_20190219.tif', '/data/sushen/marinedebris/floatingobjects/scenes/shengsi_20190615.tif', '/data/sushen/marinedebris/floatingobjects/scenes/suez_20200403.tif', '/data/sushen/marinedebris/floatingobjects/scenes/tangshan_20180130.tif', '/data/sushen/marinedebris/floatingobjects/scenes/toledo_20191221.tif', '/data/sushen/marinedebris/floatingobjects/scenes/tungchungChina_20190922.tif', '/data/sushen/marinedebris/floatingobjects/scenes/tunisia_20180715.tif', '/data/sushen/marinedebris/floatingobjects/scenes/turkmenistan_20181030.tif', '/data/sushen/marinedebris/floatingobjects/scenes/venice_20180630.tif', '/data/sushen/marinedebris/floatingobjects/scenes/venice_20180928.tif', '/data/sushen/marinedebris/floatingobjects/scenes/vungtau_20180423.tif']\n"
     ]
    }
   ],
   "source": [
    "print(list_tif)"
   ]
  },
  {
   "cell_type": "code",
   "execution_count": 25,
   "metadata": {},
   "outputs": [
    {
     "name": "stdout",
     "output_type": "stream",
     "text": [
      "accra_20181031.shp\n",
      "/data/sushen/marinedebris/project/floObj_shapefiles_new_classes/accra_20181031_lines.shp\n",
      "/data/sushen/marinedebris/project/floObj_shapefiles_new_classes/accra_20181031_polygons.shp\n"
     ]
    }
   ],
   "source": [
    "# Locate path of scene and their shapefiles from the lists\n",
    "image_index = 0\n",
    "tif_file_path = list_tif[image_index]\n",
    "shp_file_path = list_shp[image_index]\n",
    "\n",
    "shp_filename = os.path.basename(shp_file_path)\n",
    "print(shp_filename)\n",
    "\n",
    "lines_shp_filename = shp_filename.split('.shp')[0] + '_lines.shp'\n",
    "polygons_shp_filename = shp_filename.split('.shp')[0] + '_polygons.shp'\n",
    "\n",
    "output_lines_shp_file_path = os.path.join(output_path, lines_shp_filename)\n",
    "output_polygons_shp_file_path = os.path.join(output_path, polygons_shp_filename)\n",
    "\n",
    "print(output_lines_shp_file_path)\n",
    "print(output_polygons_shp_file_path)\n"
   ]
  },
  {
   "cell_type": "code",
   "execution_count": 26,
   "metadata": {},
   "outputs": [
    {
     "name": "stdout",
     "output_type": "stream",
     "text": [
      "118\n"
     ]
    }
   ],
   "source": [
    "# Rasterio Image opening\n",
    "with rio.open(tif_file_path, \"r\") as src:\n",
    "    crs = src.crs\n",
    "    transform = src.transform\n",
    "\n",
    "# Open geopandas dataframe and use corresponding CRS\n",
    "gdf = gpd.read_file(shp_file_path)\n",
    "gdf = gdf.to_crs(crs)\n",
    "print(len(gdf))"
   ]
  },
  {
   "cell_type": "code",
   "execution_count": 27,
   "metadata": {},
   "outputs": [
    {
     "name": "stdout",
     "output_type": "stream",
     "text": [
      "85\n",
      "33\n"
     ]
    },
    {
     "data": {
      "image/svg+xml": "<svg xmlns=\"http://www.w3.org/2000/svg\" xmlns:xlink=\"http://www.w3.org/1999/xlink\" width=\"100.0\" height=\"100.0\" viewBox=\"846476.7204269129 628897.7283233118 92.44776639866177 75.4618372656405\" preserveAspectRatio=\"xMinYMin meet\"><g transform=\"matrix(1,0,0,-1,0,1257870.9184838892)\"><path fill-rule=\"evenodd\" fill=\"#66cc99\" stroke=\"#555555\" stroke-width=\"1.8489553279732354\" opacity=\"0.6\" d=\"M 846554.21734182,628901.1523146599 L 846489.943912827,628905.5323071769 L 846480.144418261,628957.4838449138 L 846565.7442019634,628969.7661692293 L 846554.21734182,628901.1523146599 z\" /></g></svg>",
      "text/plain": [
       "<shapely.geometry.polygon.Polygon at 0x7f868c49d9d0>"
      ]
     },
     "execution_count": 27,
     "metadata": {},
     "output_type": "execute_result"
    }
   ],
   "source": [
    "is_closed_line = gdf.geometry.apply(line_is_closed)\n",
    "\n",
    "gdf_lines = gdf.loc[~is_closed_line]\n",
    "print(len(gdf_lines))\n",
    "\n",
    "gdf_polygons = gdf.loc[is_closed_line]\n",
    "gdf_polygons['geometry'] = gdf_polygons.geometry.apply(Polygon)\n",
    "print(len(gdf_polygons))\n",
    "\n",
    "gdf_polygons['geometry'].iloc[0]\n"
   ]
  },
  {
   "cell_type": "code",
   "execution_count": 20,
   "metadata": {},
   "outputs": [],
   "source": [
    "def gdf_class_prediction(gdf, tif_file_path, transform, rf_classifier):\n",
    "    # Iterate of every geometry object and get the pixels\n",
    "    imagesize = 16*10\n",
    "    geometry_classes = []\n",
    "\n",
    "    for j in tqdm(np.arange(len(gdf))):\n",
    "        row = gdf.iloc[j]\n",
    "\n",
    "        minx, miny, maxx, maxy = row.geometry.centroid.buffer(imagesize // 2).bounds\n",
    "        window = rasterio.windows.from_bounds(minx, miny, maxx, maxy, transform = transform)\n",
    "        width = int(window.width)\n",
    "        height = int(window.height)\n",
    "\n",
    "        # Open the scene using the window\n",
    "        with rio.open(tif_file_path, \"r\") as src_crop:\n",
    "                transform_crop = src_crop.window_transform(window)\n",
    "                image_crop = src_crop.read(window=window)\n",
    "        \n",
    "        # Remove unused bands \n",
    "        image_crop = np.delete(image_crop, [9, 10], axis = 0)\n",
    "\n",
    "        # Create a 2d mask and keep only pixels of interest\n",
    "        geometry_object = gdf.iloc[[j]].geometry\n",
    "        mask_2d = rasterize(geometry_object, all_touched=True,\n",
    "                            transform=transform_crop, out_shape=(height, width))\n",
    "\n",
    "        # Protect images and mask with padding if an geometric object too close to the boundary\n",
    "        image_crop, mask_2d = pad(image_crop, mask_2d, imagesize // 10)\n",
    "\n",
    "        # Calculate indices & textures\n",
    "        indices = calculate_indices(image_crop)\n",
    "        textures = calculate_texture(image_crop)\n",
    "\n",
    "        # Reorder axis\n",
    "        image_crop = np.moveaxis(image_crop, (0, 1, 2), (2, 0, 1))\n",
    "        indices = np.moveaxis(indices, (0, 1, 2), (2, 0, 1))\n",
    "        textures = np.moveaxis(textures, (0, 1, 2), (2, 0, 1))\n",
    "        \n",
    "        # Stacking features and reshaping into a 2d array of shape [#pixel, #bands]\n",
    "        features = np.dstack((image_crop, indices, textures))\n",
    "        sz1 = features.shape[0]\n",
    "        sz2 = features.shape[1]\n",
    "        features = np.reshape(features, (sz1*sz2, -1)) \n",
    "        \n",
    "        # Apply mask\n",
    "        mask_2d = np.reshape(mask_2d, sz1*sz2)\n",
    "        bool_mask_2d = mask_2d > 0 \n",
    "        geometry_features = features[bool_mask_2d, :]\n",
    "\n",
    "        # Protection if for some odd reason list of pixels to predict is empty\n",
    "        if geometry_features.size == 0:\n",
    "            geometry_classes.append('Unresolved error')\n",
    "            continue\n",
    "\n",
    "        # Prediction of pixels in geometry object\n",
    "        prediction = rf_classifier.predict(geometry_features)\n",
    "        values, counts = np.unique(prediction, return_counts=True)\n",
    "        ind = np.argmax(counts)\n",
    "        predicted_class = values[ind]\n",
    "\n",
    "        # Append prediction to the list\n",
    "        geometry_classes.append(predicted_class)\n",
    "    \n",
    "    return geometry_classes"
   ]
  },
  {
   "cell_type": "code",
   "execution_count": 21,
   "metadata": {},
   "outputs": [
    {
     "name": "stderr",
     "output_type": "stream",
     "text": [
      "100%|██████████| 41/41 [00:07<00:00,  5.82it/s]\n"
     ]
    }
   ],
   "source": [
    "# Shapefile predictions\n",
    "lines_geometry_classes = gdf_class_prediction(gdf_lines, tif_file_path, transform, rf_classifier)\n",
    "if len(gdf_polygons) > 0:\n",
    "    polygons_geometry_classes = gdf_class_prediction(gdf_polygons, tif_file_path, transform, rf_classifier)"
   ]
  },
  {
   "cell_type": "code",
   "execution_count": 22,
   "metadata": {},
   "outputs": [],
   "source": [
    "# Add predicted marida class to the GeoDataFrame and save it\n",
    "gdf_lines['marida_cla'] = lines_geometry_classes # there is a 10 character limit for gpd column names\n",
    "gdf_lines['img_path'] = tif_file_path\n",
    "gdf_lines.to_file(output_lines_shp_file_path)\n",
    "\n",
    "if len(gdf_polygons) > 0:\n",
    "    gdf_polygons['marida_cla'] = polygons_geometry_classes # there is a 10 character limit for gpd column names\n",
    "    gdf_polygons['img_path'] = tif_file_path\n",
    "    gdf_polygons.to_file(output_polygons_shp_file_path)"
   ]
  },
  {
   "cell_type": "code",
   "execution_count": 23,
   "metadata": {},
   "outputs": [
    {
     "data": {
      "text/plain": [
       "Water               31\n",
       "Waves                9\n",
       "Unresolved error     1\n",
       "Name: marida_cla, dtype: int64"
      ]
     },
     "execution_count": 23,
     "metadata": {},
     "output_type": "execute_result"
    }
   ],
   "source": [
    "gdf_test = gpd.read_file(output_lines_shp_file_path)\n",
    "gdf_test.sample(5)\n",
    "gdf_test['marida_cla'].value_counts()"
   ]
  },
  {
   "cell_type": "code",
   "execution_count": null,
   "metadata": {},
   "outputs": [],
   "source": [
    "# print(errors)\n",
    "# df_test = pd.Series(classes)\n",
    "# df_test.value_counts()"
   ]
  },
  {
   "cell_type": "code",
   "execution_count": null,
   "metadata": {},
   "outputs": [],
   "source": []
  },
  {
   "cell_type": "code",
   "execution_count": null,
   "metadata": {},
   "outputs": [],
   "source": []
  },
  {
   "cell_type": "code",
   "execution_count": null,
   "metadata": {},
   "outputs": [],
   "source": [
    "# Iterate of every geometry object and get the pixels\n",
    "imagesize = 16*10\n",
    "geometry_classes = []\n",
    "\n",
    "index = 0\n",
    "\n",
    "row = gdf_lines.iloc[index]\n",
    "\n",
    "minx, miny, maxx, maxy = row.geometry.centroid.buffer(imagesize // 2).bounds\n",
    "window = rasterio.windows.from_bounds(minx, miny, maxx, maxy, transform = transform)\n",
    "width = int(window.width)\n",
    "height = int(window.height)\n",
    "\n",
    "# Open the scene using the window\n",
    "with rio.open(tif_file_path, \"r\") as src_crop:\n",
    "        transform_crop = src_crop.window_transform(window)\n",
    "        image_crop = src_crop.read(window=window)\n",
    "\n",
    "# Remove unused bands \n",
    "image_crop = np.delete(image_crop, [9, 10], axis = 0)\n",
    "print('Cropped image shape is:', image_crop.shape)\n",
    "\n",
    "# Create a 2d mask and keep only pixels of interest\n",
    "geometry_object = gdf_lines.iloc[[index]].geometry\n",
    "print(geometry_object)\n",
    "mask_2d = rasterize(geometry_object, all_touched=True,\n",
    "                    transform=transform_crop, out_shape=(height, width))\n",
    "print('Mask 2D shape is:', mask_2d.shape)\n",
    "\n",
    "# Protect images and mask with padding if an geometric object too close to the boundary\n",
    "image_crop, mask_2d = pad(image_crop, mask_2d, imagesize // 10)\n",
    "print('After padding, image and mask shapes are:', image_crop.shape, mask_2d.shape)\n",
    "\n",
    "# Calculate indices & textures\n",
    "indices = calculate_indices(image_crop)\n",
    "textures = calculate_texture(image_crop)\n",
    "print('Indices and textures shapes are:', indices.shape, textures.shape)\n",
    "\n",
    "# Reorder axis\n",
    "image_crop = np.moveaxis(image_crop, (0, 1, 2), (2, 0, 1))\n",
    "indices = np.moveaxis(indices, (0, 1, 2), (2, 0, 1))\n",
    "textures = np.moveaxis(textures, (0, 1, 2), (2, 0, 1))\n",
    "\n",
    "# Stacking features and reshaping into a 2d array of shape [#pixel, #bands]\n",
    "features = np.dstack((image_crop, indices, textures))\n",
    "sz1 = features.shape[0]\n",
    "sz2 = features.shape[1]\n",
    "features = np.reshape(features, (sz1*sz2, -1)) \n",
    "\n",
    "# Apply mask\n",
    "mask_2d = np.reshape(mask_2d, sz1*sz2)\n",
    "print(mask_2d)\n",
    "bool_mask_2d = mask_2d > 0 \n",
    "# print(bool_mask_2d)\n",
    "geometry_features = features[bool_mask_2d, :]\n",
    "# print(geometry_features.shape)\n",
    "\n",
    "# Protection if for some odd reason list of pixels to predict is empty\n",
    "if geometry_features.size == 0:\n",
    "    geometry_classes.append('Unresolved error')\n",
    "\n",
    "# Prediction of pixels in geometry object\n",
    "prediction = rf_classifier.predict(geometry_features)\n",
    "values, counts = np.unique(prediction, return_counts=True)\n",
    "ind = np.argmax(counts)\n",
    "predicted_class = values[ind]\n",
    "\n",
    "# Append prediction to the list\n",
    "geometry_classes.append(predicted_class)"
   ]
  },
  {
   "cell_type": "code",
   "execution_count": null,
   "metadata": {},
   "outputs": [],
   "source": []
  }
 ],
 "metadata": {
  "kernelspec": {
   "display_name": "marinedebris",
   "language": "python",
   "name": "python3"
  },
  "language_info": {
   "codemirror_mode": {
    "name": "ipython",
    "version": 3
   },
   "file_extension": ".py",
   "mimetype": "text/x-python",
   "name": "python",
   "nbconvert_exporter": "python",
   "pygments_lexer": "ipython3",
   "version": "3.8.13 (default, Oct 21 2022, 23:50:54) \n[GCC 11.2.0]"
  },
  "orig_nbformat": 4,
  "vscode": {
   "interpreter": {
    "hash": "04b59f4b977491cf6d37824be3d8880c69ee74816be31ee150b1658daa1325c9"
   }
  }
 },
 "nbformat": 4,
 "nbformat_minor": 2
}
