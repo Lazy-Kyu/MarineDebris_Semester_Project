{
 "cells": [
  {
   "cell_type": "code",
   "execution_count": 1,
   "metadata": {},
   "outputs": [],
   "source": [
    "import glob\n",
    "import geopandas as gpd\n",
    "import sys\n",
    "import pandas as pd\n",
    "import numpy as np"
   ]
  },
  {
   "cell_type": "code",
   "execution_count": 2,
   "metadata": {},
   "outputs": [
    {
     "data": {
      "text/plain": [
       "25"
      ]
     },
     "execution_count": 2,
     "metadata": {},
     "output_type": "execute_result"
    }
   ],
   "source": [
    "list_shp = glob.glob(\"/data/sushen/marinedebris/project/floObj_new_shapefiles/*.shp\")\n",
    "len(list_shp)"
   ]
  },
  {
   "cell_type": "code",
   "execution_count": 3,
   "metadata": {},
   "outputs": [
    {
     "name": "stdout",
     "output_type": "stream",
     "text": [
      "3209\n"
     ]
    },
    {
     "data": {
      "text/plain": [
       "5.0     833\n",
       "1.0     523\n",
       "7.0     500\n",
       "6.0     487\n",
       "10.0    297\n",
       "3.0     206\n",
       "11.0    175\n",
       "0.0     150\n",
       "12.0     38\n",
       "Name: marida_cla, dtype: int64"
      ]
     },
     "execution_count": 3,
     "metadata": {},
     "output_type": "execute_result"
    }
   ],
   "source": [
    "# First we create an empty GDF\n",
    "gdf_all = gpd.GeoDataFrame(columns=['marida_cla', 'geometry'], geometry='geometry')\n",
    "\n",
    "# Append every GeoDataFrame into a single one\n",
    "for file_index in np.arange(len(list_shp)): \n",
    "    shp_file_path = list_shp[file_index]\n",
    "    gdf_temp = gpd.read_file(shp_file_path)\n",
    "\n",
    "    gdf_all = pd.concat([gdf_all, gdf_temp], ignore_index=True)\n",
    "\n",
    "print(len(gdf_all))\n",
    "gdf_all['marida_cla'].value_counts()\n"
   ]
  },
  {
   "cell_type": "code",
   "execution_count": null,
   "metadata": {},
   "outputs": [],
   "source": []
  }
 ],
 "metadata": {
  "kernelspec": {
   "display_name": "Python 3.8.13 ('marinedebris': conda)",
   "language": "python",
   "name": "python3"
  },
  "language_info": {
   "codemirror_mode": {
    "name": "ipython",
    "version": 3
   },
   "file_extension": ".py",
   "mimetype": "text/x-python",
   "name": "python",
   "nbconvert_exporter": "python",
   "pygments_lexer": "ipython3",
   "version": "3.8.13"
  },
  "orig_nbformat": 4,
  "vscode": {
   "interpreter": {
    "hash": "04b59f4b977491cf6d37824be3d8880c69ee74816be31ee150b1658daa1325c9"
   }
  }
 },
 "nbformat": 4,
 "nbformat_minor": 2
}
