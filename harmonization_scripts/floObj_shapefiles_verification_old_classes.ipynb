{
 "cells": [
  {
   "cell_type": "code",
   "execution_count": 1,
   "metadata": {},
   "outputs": [],
   "source": [
    "import glob\n",
    "import geopandas as gpd\n",
    "import sys\n",
    "import pandas as pd\n",
    "import numpy as np"
   ]
  },
  {
   "cell_type": "code",
   "execution_count": 2,
   "metadata": {},
   "outputs": [
    {
     "data": {
      "text/plain": [
       "25"
      ]
     },
     "execution_count": 2,
     "metadata": {},
     "output_type": "execute_result"
    }
   ],
   "source": [
    "list_shp = glob.glob(\"/data/sushen/marinedebris/project/floObj_new_shapefiles/*.shp\")\n",
    "len(list_shp)"
   ]
  },
  {
   "cell_type": "code",
   "execution_count": 12,
   "metadata": {},
   "outputs": [],
   "source": [
    "cat_mapping = { '0': 'Unresolved error during prediction pipeline',\n",
    "                '1': 'Marine Debris',\n",
    "                '2': 'Dense Sargassum',\n",
    "                '3': 'Sparse Sargassum',\n",
    "                '4': 'Natural Organic Material',\n",
    "                '5': 'Ship',\n",
    "                '6': 'Clouds',\n",
    "                '7': 'Marine Water',\n",
    "                '8': 'Sediment-Laden Water',\n",
    "                '9': 'Foam',\n",
    "                '10': 'Turbid Water',\n",
    "                '11': 'Shallow Water',\n",
    "                '12': 'Waves',\n",
    "                '13': 'Cloud Shadows',\n",
    "                '14': 'Wakes',\n",
    "                '15': 'Mixed Water'}\n",
    "\n",
    "def cat_map(x):\n",
    "    return cat_mapping[x]\n",
    "\n",
    "cat_mapping_vec = np.vectorize(cat_map)"
   ]
  },
  {
   "cell_type": "code",
   "execution_count": 13,
   "metadata": {},
   "outputs": [
    {
     "name": "stdout",
     "output_type": "stream",
     "text": [
      "3209\n"
     ]
    },
    {
     "data": {
      "text/plain": [
       "Ship                                           833\n",
       "Marine Debris                                  523\n",
       "Marine Water                                   500\n",
       "Clouds                                         487\n",
       "Turbid Water                                   297\n",
       "Sparse Sargassum                               206\n",
       "Shallow Water                                  175\n",
       "Unresolved error during prediction pipeline    150\n",
       "Waves                                           38\n",
       "Name: class_name, dtype: int64"
      ]
     },
     "execution_count": 13,
     "metadata": {},
     "output_type": "execute_result"
    }
   ],
   "source": [
    "# First we create an empty GDF\n",
    "gdf_all = gpd.GeoDataFrame(columns=['marida_cla', 'geometry'], geometry='geometry')\n",
    "\n",
    "# Append every GeoDataFrame into a single one\n",
    "for file_index in np.arange(len(list_shp)): \n",
    "    shp_file_path = list_shp[file_index]\n",
    "    gdf_temp = gpd.read_file(shp_file_path)\n",
    "\n",
    "    gdf_all = pd.concat([gdf_all, gdf_temp], ignore_index=True)\n",
    "\n",
    "print(len(gdf_all))\n",
    "gdf_all['class_name'] = gdf_all['marida_cla'].apply(lambda x: cat_mapping_vec(str(int(x))))\n",
    "# gdf_all['class_name'] = gdf_all['class_str'].apply(cat_mapping_vec)\n",
    "gdf_all['class_name'].value_counts()\n"
   ]
  },
  {
   "cell_type": "code",
   "execution_count": null,
   "metadata": {},
   "outputs": [],
   "source": []
  }
 ],
 "metadata": {
  "kernelspec": {
   "display_name": "Python 3.8.13 ('marinedebris': conda)",
   "language": "python",
   "name": "python3"
  },
  "language_info": {
   "codemirror_mode": {
    "name": "ipython",
    "version": 3
   },
   "file_extension": ".py",
   "mimetype": "text/x-python",
   "name": "python",
   "nbconvert_exporter": "python",
   "pygments_lexer": "ipython3",
   "version": "3.8.13 (default, Oct 21 2022, 23:50:54) \n[GCC 11.2.0]"
  },
  "orig_nbformat": 4,
  "vscode": {
   "interpreter": {
    "hash": "04b59f4b977491cf6d37824be3d8880c69ee74816be31ee150b1658daa1325c9"
   }
  }
 },
 "nbformat": 4,
 "nbformat_minor": 2
}
