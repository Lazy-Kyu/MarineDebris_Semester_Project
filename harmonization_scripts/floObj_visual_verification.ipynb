{
 "cells": [
  {
   "cell_type": "code",
   "execution_count": 1,
   "metadata": {},
   "outputs": [
    {
     "name": "stderr",
     "output_type": "stream",
     "text": [
      "/home/sushen/.local/lib/python3.8/site-packages/tqdm/auto.py:22: TqdmWarning: IProgress not found. Please update jupyter and ipywidgets. See https://ipywidgets.readthedocs.io/en/stable/user_install.html\n",
      "  from .autonotebook import tqdm as notebook_tqdm\n"
     ]
    }
   ],
   "source": [
    "import glob\n",
    "import geopandas as gpd\n",
    "import sys\n",
    "import os\n",
    "import pandas as pd\n",
    "import numpy as np\n",
    "import rasterio as rio\n",
    "from rasterio.features import rasterize\n",
    "import rasterio.windows\n",
    "from matplotlib import pyplot as plt\n",
    "from tqdm import tqdm\n",
    "sys.path.append('/home/sushen/marine_debris_semester_project')\n",
    "from data.utils_file import pad\n"
   ]
  },
  {
   "cell_type": "code",
   "execution_count": 2,
   "metadata": {},
   "outputs": [],
   "source": [
    "def ndvi(band4, band8):\n",
    "    return (band8 - band4)/(band8 + band4)\n",
    "\n",
    "def fdi(band6, band8, band10):\n",
    "    l_nir = 833.0\n",
    "    l_redge = 740.0\n",
    "    l_swir = 1614.0\n",
    "    \n",
    "    r_acc = band6 + 10*(band10 - band6)*(l_nir - l_redge)/(l_swir - l_redge)\n",
    "    \n",
    "    return band8 - r_acc"
   ]
  },
  {
   "cell_type": "code",
   "execution_count": 3,
   "metadata": {},
   "outputs": [
    {
     "data": {
      "text/plain": [
       "36"
      ]
     },
     "execution_count": 3,
     "metadata": {},
     "output_type": "execute_result"
    }
   ],
   "source": [
    "list_shp = glob.glob(\"/data/sushen/marinedebris/project/floObj_shapefiles_trial_2/*.shp\")\n",
    "len(list_shp)"
   ]
  },
  {
   "cell_type": "code",
   "execution_count": 4,
   "metadata": {},
   "outputs": [
    {
     "name": "stdout",
     "output_type": "stream",
     "text": [
      "3378\n"
     ]
    },
    {
     "data": {
      "text/plain": [
       "Water                       1956\n",
       "Marine Debris               1047\n",
       "Waves                        237\n",
       "Unresolved error             134\n",
       "Sargassum                      2\n",
       "Natural Organic Material       2\n",
       "Name: marida_cla, dtype: int64"
      ]
     },
     "execution_count": 4,
     "metadata": {},
     "output_type": "execute_result"
    }
   ],
   "source": [
    "# First we create an empty GDF\n",
    "gdf_all = gpd.GeoDataFrame(columns=['marida_cla', 'geometry'], geometry='geometry')\n",
    "\n",
    "# Append every GeoDataFrame into a single one\n",
    "for file_index in np.arange(len(list_shp)): \n",
    "    shp_file_path = list_shp[file_index]\n",
    "    gdf_temp = gpd.read_file(shp_file_path)\n",
    "\n",
    "    gdf_all = pd.concat([gdf_all, gdf_temp], ignore_index=True)\n",
    "\n",
    "print(len(gdf_all))\n",
    "gdf_all['marida_cla'].value_counts()\n"
   ]
  },
  {
   "cell_type": "code",
   "execution_count": null,
   "metadata": {},
   "outputs": [],
   "source": [
    "gdf_all_clean = gdf_all[gdf_all['marida_cla'] != 'Unresolved error']\n",
    "print(len(gdf_all_clean))"
   ]
  },
  {
   "cell_type": "code",
   "execution_count": null,
   "metadata": {},
   "outputs": [],
   "source": [
    "imagesize = 32*10\n",
    "\n",
    "gdf_water = gdf_all_clean[gdf_all_clean['marida_cla'] == 'Water']\n",
    "gdf_debris = gdf_all_clean[gdf_all_clean['marida_cla'] == 'Marine Debris']\n",
    "\n",
    "# Choose 0 for 'Water' and 1 for 'Marine Debris'\n",
    "class_type = 1\n",
    "\n",
    "# Dataframe to sample from\n",
    "if class_type == 0:\n",
    "    samples = gdf_water.sample(50, random_state = 0)\n",
    "else:\n",
    "    samples = gdf_debris.sample(50, random_state = 0)\n",
    "\n",
    "title_list = []\n",
    "# predicted_class_list = []\n",
    "\n",
    "if class_type == 0:\n",
    "    save_folder_path = '/data/sushen/marinedebris/project/evaluation/water/'\n",
    "else:    \n",
    "    save_folder_path = '/data/sushen/marinedebris/project/evaluation/marine_debris/'\n",
    "\n",
    "\n",
    "for sample_index in np.arange(len(samples)):\n",
    "    row = samples.iloc[sample_index]\n",
    "    tif_file_path = row.img_path\n",
    "\n",
    "    # Image title and geometry object number\n",
    "    image_name = os.path.basename(tif_file_path)\n",
    "    image_name = image_name.split('.tif')[0]\n",
    "\n",
    "    gdf_scene = gdf_all_clean[gdf_all_clean['img_path'] == tif_file_path]\n",
    "    gdf_scene.reset_index(inplace = True)\n",
    "    geometry_object_index = gdf_scene.index[gdf_scene['geometry'] == row.geometry].tolist()\n",
    "    geometry_object_index = str(geometry_object_index[0])\n",
    "\n",
    "    if class_type == 0:\n",
    "        title = 'Image: ' + str(sample_index + 1) + ' | scene: ' + image_name + ' | scene object: ' + geometry_object_index \\\n",
    "            + ' | prediction: Water'\n",
    "    else:\n",
    "        title = 'Image: ' + str(sample_index + 1) + ' | scene: ' + image_name + ' | scene object: ' + geometry_object_index \\\n",
    "        + ' | prediction: Marine Debris'\n",
    "\n",
    "    title_list.append(title)\n",
    "\n",
    "    # Path to save the image\n",
    "    if class_type == 0:\n",
    "        save_folder_path = '/data/sushen/marinedebris/project/evaluation/water/'\n",
    "    else:    \n",
    "        save_folder_path = '/data/sushen/marinedebris/project/evaluation/marine_debris/'\n",
    "\n",
    "    image_save_path = 'image_' + str(sample_index + 1) + '.png'\n",
    "    image_save_path = os.path.join(save_folder_path, image_save_path)\n",
    "\n",
    "    # Rasterio Image opening to get the transform for Window\n",
    "    with rio.open(tif_file_path, \"r\") as src:\n",
    "        transform = src.transform\n",
    "\n",
    "    # Window definition for the cropping\n",
    "    minx, miny, maxx, maxy = row.geometry.centroid.buffer(imagesize // 2).bounds\n",
    "    window = rasterio.windows.from_bounds(minx, miny, maxx, maxy, transform = transform)\n",
    "    width = int(window.width)\n",
    "    height = int(window.height)\n",
    "\n",
    "    # Open the scene using the window\n",
    "    with rio.open(tif_file_path, \"r\") as src_crop:\n",
    "        transform_crop = src_crop.window_transform(window)\n",
    "        image_crop = src_crop.read(window=window)\n",
    "\n",
    "    # Remove unused bands \n",
    "    image_crop = np.delete(image_crop, [9, 10], axis = 0)\n",
    "\n",
    "    # Mask 16x16\n",
    "    mask_object = samples.iloc[[sample_index]].geometry\n",
    "    mask_2d = rasterize(mask_object, all_touched=True,\n",
    "                        transform=transform_crop, out_shape=(height, width))\n",
    "\n",
    "    size_mask = np.zeros((32,32))\n",
    "    size_mask[8:24, 8:24] = 1\n",
    "\n",
    "    # Protect images and mask with padding if an geometric object too close to the boundary\n",
    "    image_crop, mask_2d = pad(image_crop, mask_2d, imagesize // 10)\n",
    "\n",
    "    # Take RGB bands\n",
    "    bgr_img = image_crop[1:4]\n",
    "    rgb_img = np.flip(bgr_img, axis = 0)\n",
    "    rgb_img = np.moveaxis(rgb_img, (0, 1, 2), (2, 0, 1))\n",
    "\n",
    "    # Apply masks\n",
    "    red_masked = rgb_img[:,:,0]\n",
    "    red_masked = np.where(mask_2d == 1, red_masked, 0)\n",
    "    red_masked = np.where(size_mask == 1, red_masked, 0)\n",
    "\n",
    "    green_masked = rgb_img[:,:,1]\n",
    "    green_masked = np.where(mask_2d == 1, green_masked, 0)\n",
    "    green_masked = np.where(size_mask == 1, green_masked, 0)\n",
    "\n",
    "    blue_masked = rgb_img[:,:,2]\n",
    "    blue_masked = np.where(mask_2d == 1, blue_masked, 0)\n",
    "    blue_masked = np.where(size_mask == 1, blue_masked, 0)\n",
    "\n",
    "    rgb_masked = np.dstack([red_masked, green_masked, blue_masked])\n",
    "\n",
    "    # NDVI and FDI\n",
    "    ndvi_img = ndvi(image_crop[3], image_crop[7])\n",
    "    fdi_img = fdi(image_crop[5], image_crop[7], image_crop[9])\n",
    "\n",
    "    # Plots\n",
    "    fig, axs = plt.subplots(1, 4, figsize = (8,5))\n",
    "    axs[0].imshow(rgb_img/np.max(rgb_img))\n",
    "    axs[0].set_title('RGB', fontsize=10)\n",
    "    axs[0].axis('off')\n",
    "\n",
    "    axs[1].imshow(rgb_masked/np.max(rgb_img))\n",
    "    axs[1].set_title('RGB masked (16x16)', fontsize=10)\n",
    "    axs[1].axis('off')\n",
    "\n",
    "    axs[2].imshow(ndvi_img)\n",
    "    axs[2].set_title('NDVI', fontsize=10)\n",
    "    axs[2].axis('off')\n",
    "\n",
    "    axs[3].imshow(fdi_img)\n",
    "    axs[3].set_title('FDI', fontsize=10)\n",
    "    axs[3].axis('off')\n",
    "\n",
    "    plt.suptitle(title, y=0.75)\n",
    "    plt.tight_layout()\n",
    "    plt.savefig(image_save_path)\n",
    "    plt.show()\n",
    "\n",
    "# Save titles into CSV\n",
    "if class_type == 0:\n",
    "    save_titles_path = '/data/sushen/marinedebris/project/evaluation/water/'\n",
    "else:    \n",
    "    save_titles_path = '/data/sushen/marinedebris/project/evaluation/marine_debris/'\n",
    "\n",
    "save_titles_path = os.path.join(save_titles_path, 'titles.csv')\n",
    "\n",
    "df_title = pd.DataFrame(title_list)\n",
    "df_title.to_csv(save_titles_path, index=False)"
   ]
  },
  {
   "cell_type": "code",
   "execution_count": null,
   "metadata": {},
   "outputs": [],
   "source": [
    "# Add title and predicted class list to pandas DF and export to EXCEL for easy copy-paste to the spreadsheet\n",
    "# print(title_list)\n",
    "\n"
   ]
  },
  {
   "cell_type": "code",
   "execution_count": null,
   "metadata": {},
   "outputs": [],
   "source": [
    "if class_type == 0:\n",
    "    save_folder_path = '/data/sushen/marinedebris/project/evaluation/water/'\n",
    "else:    \n",
    "    save_folder_path = '/data/sushen/marinedebris/project/evaluation/marine_debris/'\n",
    "\n",
    "image_save_path = 'image_' + str(sample_index + 1) + '.png'\n",
    "image_save_path = os.path.join(save_folder_path, image_save_path)\n",
    "print(image_save_path)"
   ]
  },
  {
   "cell_type": "code",
   "execution_count": null,
   "metadata": {},
   "outputs": [],
   "source": [
    "# Plots\n",
    "fig, axs = plt.subplots(1,4, figsize = (8,5))\n",
    "axs[0].imshow(rgb_img/np.max(rgb_img))\n",
    "axs[0].set_title('RGB', fontsize=10)\n",
    "axs[0].axis('off')\n",
    "\n",
    "axs[1].imshow(rgb_masked/np.max(rgb_img))\n",
    "axs[1].set_title('RGB masked (16x16)', fontsize=10)\n",
    "axs[1].axis('off')\n",
    "\n",
    "axs[2].imshow(ndvi_img)\n",
    "axs[2].set_title('NDVI', fontsize=10)\n",
    "axs[2].axis('off')\n",
    "\n",
    "axs[3].imshow(fdi_img)\n",
    "axs[3].set_title('FDI', fontsize=10)\n",
    "axs[3].axis('off')\n",
    "\n",
    "plt.suptitle(title, y=0.75)\n",
    "plt.tight_layout()\n",
    "plt.savefig(image_save_path)\n",
    "plt.show()"
   ]
  },
  {
   "cell_type": "code",
   "execution_count": null,
   "metadata": {},
   "outputs": [],
   "source": []
  }
 ],
 "metadata": {
  "kernelspec": {
   "display_name": "marinedebris",
   "language": "python",
   "name": "python3"
  },
  "language_info": {
   "codemirror_mode": {
    "name": "ipython",
    "version": 3
   },
   "file_extension": ".py",
   "mimetype": "text/x-python",
   "name": "python",
   "nbconvert_exporter": "python",
   "pygments_lexer": "ipython3",
   "version": "3.8.13 (default, Oct 21 2022, 23:50:54) \n[GCC 11.2.0]"
  },
  "orig_nbformat": 4,
  "vscode": {
   "interpreter": {
    "hash": "04b59f4b977491cf6d37824be3d8880c69ee74816be31ee150b1658daa1325c9"
   }
  }
 },
 "nbformat": 4,
 "nbformat_minor": 2
}
